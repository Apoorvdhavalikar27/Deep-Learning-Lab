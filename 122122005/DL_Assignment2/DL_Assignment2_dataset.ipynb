{
 "cells": [
  {
   "cell_type": "code",
   "execution_count": 12,
   "id": "9a4bdd95",
   "metadata": {},
   "outputs": [
    {
     "data": {
      "text/html": [
       "<div>\n",
       "<style scoped>\n",
       "    .dataframe tbody tr th:only-of-type {\n",
       "        vertical-align: middle;\n",
       "    }\n",
       "\n",
       "    .dataframe tbody tr th {\n",
       "        vertical-align: top;\n",
       "    }\n",
       "\n",
       "    .dataframe thead th {\n",
       "        text-align: right;\n",
       "    }\n",
       "</style>\n",
       "<table border=\"1\" class=\"dataframe\">\n",
       "  <thead>\n",
       "    <tr style=\"text-align: right;\">\n",
       "      <th></th>\n",
       "      <th>Pregnancies</th>\n",
       "      <th>Glucose</th>\n",
       "      <th>BloodPressure</th>\n",
       "      <th>SkinThickness</th>\n",
       "      <th>Insulin</th>\n",
       "      <th>BMI</th>\n",
       "      <th>DiabetesPedigreeFunction</th>\n",
       "      <th>Age</th>\n",
       "      <th>Outcome</th>\n",
       "    </tr>\n",
       "  </thead>\n",
       "  <tbody>\n",
       "    <tr>\n",
       "      <th>0</th>\n",
       "      <td>6</td>\n",
       "      <td>148</td>\n",
       "      <td>72</td>\n",
       "      <td>35</td>\n",
       "      <td>0</td>\n",
       "      <td>33.6</td>\n",
       "      <td>0.627</td>\n",
       "      <td>50</td>\n",
       "      <td>1</td>\n",
       "    </tr>\n",
       "    <tr>\n",
       "      <th>1</th>\n",
       "      <td>1</td>\n",
       "      <td>85</td>\n",
       "      <td>66</td>\n",
       "      <td>29</td>\n",
       "      <td>0</td>\n",
       "      <td>26.6</td>\n",
       "      <td>0.351</td>\n",
       "      <td>31</td>\n",
       "      <td>0</td>\n",
       "    </tr>\n",
       "    <tr>\n",
       "      <th>2</th>\n",
       "      <td>8</td>\n",
       "      <td>183</td>\n",
       "      <td>64</td>\n",
       "      <td>0</td>\n",
       "      <td>0</td>\n",
       "      <td>23.3</td>\n",
       "      <td>0.672</td>\n",
       "      <td>32</td>\n",
       "      <td>1</td>\n",
       "    </tr>\n",
       "    <tr>\n",
       "      <th>3</th>\n",
       "      <td>1</td>\n",
       "      <td>89</td>\n",
       "      <td>66</td>\n",
       "      <td>23</td>\n",
       "      <td>94</td>\n",
       "      <td>28.1</td>\n",
       "      <td>0.167</td>\n",
       "      <td>21</td>\n",
       "      <td>0</td>\n",
       "    </tr>\n",
       "    <tr>\n",
       "      <th>4</th>\n",
       "      <td>0</td>\n",
       "      <td>137</td>\n",
       "      <td>40</td>\n",
       "      <td>35</td>\n",
       "      <td>168</td>\n",
       "      <td>43.1</td>\n",
       "      <td>2.288</td>\n",
       "      <td>33</td>\n",
       "      <td>1</td>\n",
       "    </tr>\n",
       "  </tbody>\n",
       "</table>\n",
       "</div>"
      ],
      "text/plain": [
       "   Pregnancies  Glucose  BloodPressure  SkinThickness  Insulin   BMI  \\\n",
       "0            6      148             72             35        0  33.6   \n",
       "1            1       85             66             29        0  26.6   \n",
       "2            8      183             64              0        0  23.3   \n",
       "3            1       89             66             23       94  28.1   \n",
       "4            0      137             40             35      168  43.1   \n",
       "\n",
       "   DiabetesPedigreeFunction  Age  Outcome  \n",
       "0                     0.627   50        1  \n",
       "1                     0.351   31        0  \n",
       "2                     0.672   32        1  \n",
       "3                     0.167   21        0  \n",
       "4                     2.288   33        1  "
      ]
     },
     "execution_count": 12,
     "metadata": {},
     "output_type": "execute_result"
    }
   ],
   "source": [
    "import numpy as np\n",
    "import pandas as pd\n",
    "df1=pd.read_csv('diabetes.csv')\n",
    "df1.head()"
   ]
  },
  {
   "cell_type": "code",
   "execution_count": 13,
   "id": "ef371209",
   "metadata": {},
   "outputs": [
    {
     "data": {
      "text/html": [
       "<div>\n",
       "<style scoped>\n",
       "    .dataframe tbody tr th:only-of-type {\n",
       "        vertical-align: middle;\n",
       "    }\n",
       "\n",
       "    .dataframe tbody tr th {\n",
       "        vertical-align: top;\n",
       "    }\n",
       "\n",
       "    .dataframe thead th {\n",
       "        text-align: right;\n",
       "    }\n",
       "</style>\n",
       "<table border=\"1\" class=\"dataframe\">\n",
       "  <thead>\n",
       "    <tr style=\"text-align: right;\">\n",
       "      <th></th>\n",
       "      <th>Pregnancies</th>\n",
       "      <th>Glucose</th>\n",
       "      <th>BloodPressure</th>\n",
       "      <th>SkinThickness</th>\n",
       "      <th>Insulin</th>\n",
       "      <th>BMI</th>\n",
       "      <th>DiabetesPedigreeFunction</th>\n",
       "      <th>Age</th>\n",
       "    </tr>\n",
       "  </thead>\n",
       "  <tbody>\n",
       "    <tr>\n",
       "      <th>0</th>\n",
       "      <td>6</td>\n",
       "      <td>148</td>\n",
       "      <td>72</td>\n",
       "      <td>35</td>\n",
       "      <td>0</td>\n",
       "      <td>33.6</td>\n",
       "      <td>0.627</td>\n",
       "      <td>50</td>\n",
       "    </tr>\n",
       "    <tr>\n",
       "      <th>1</th>\n",
       "      <td>1</td>\n",
       "      <td>85</td>\n",
       "      <td>66</td>\n",
       "      <td>29</td>\n",
       "      <td>0</td>\n",
       "      <td>26.6</td>\n",
       "      <td>0.351</td>\n",
       "      <td>31</td>\n",
       "    </tr>\n",
       "    <tr>\n",
       "      <th>2</th>\n",
       "      <td>8</td>\n",
       "      <td>183</td>\n",
       "      <td>64</td>\n",
       "      <td>0</td>\n",
       "      <td>0</td>\n",
       "      <td>23.3</td>\n",
       "      <td>0.672</td>\n",
       "      <td>32</td>\n",
       "    </tr>\n",
       "    <tr>\n",
       "      <th>3</th>\n",
       "      <td>1</td>\n",
       "      <td>89</td>\n",
       "      <td>66</td>\n",
       "      <td>23</td>\n",
       "      <td>94</td>\n",
       "      <td>28.1</td>\n",
       "      <td>0.167</td>\n",
       "      <td>21</td>\n",
       "    </tr>\n",
       "    <tr>\n",
       "      <th>4</th>\n",
       "      <td>0</td>\n",
       "      <td>137</td>\n",
       "      <td>40</td>\n",
       "      <td>35</td>\n",
       "      <td>168</td>\n",
       "      <td>43.1</td>\n",
       "      <td>2.288</td>\n",
       "      <td>33</td>\n",
       "    </tr>\n",
       "    <tr>\n",
       "      <th>...</th>\n",
       "      <td>...</td>\n",
       "      <td>...</td>\n",
       "      <td>...</td>\n",
       "      <td>...</td>\n",
       "      <td>...</td>\n",
       "      <td>...</td>\n",
       "      <td>...</td>\n",
       "      <td>...</td>\n",
       "    </tr>\n",
       "    <tr>\n",
       "      <th>763</th>\n",
       "      <td>10</td>\n",
       "      <td>101</td>\n",
       "      <td>76</td>\n",
       "      <td>48</td>\n",
       "      <td>180</td>\n",
       "      <td>32.9</td>\n",
       "      <td>0.171</td>\n",
       "      <td>63</td>\n",
       "    </tr>\n",
       "    <tr>\n",
       "      <th>764</th>\n",
       "      <td>2</td>\n",
       "      <td>122</td>\n",
       "      <td>70</td>\n",
       "      <td>27</td>\n",
       "      <td>0</td>\n",
       "      <td>36.8</td>\n",
       "      <td>0.340</td>\n",
       "      <td>27</td>\n",
       "    </tr>\n",
       "    <tr>\n",
       "      <th>765</th>\n",
       "      <td>5</td>\n",
       "      <td>121</td>\n",
       "      <td>72</td>\n",
       "      <td>23</td>\n",
       "      <td>112</td>\n",
       "      <td>26.2</td>\n",
       "      <td>0.245</td>\n",
       "      <td>30</td>\n",
       "    </tr>\n",
       "    <tr>\n",
       "      <th>766</th>\n",
       "      <td>1</td>\n",
       "      <td>126</td>\n",
       "      <td>60</td>\n",
       "      <td>0</td>\n",
       "      <td>0</td>\n",
       "      <td>30.1</td>\n",
       "      <td>0.349</td>\n",
       "      <td>47</td>\n",
       "    </tr>\n",
       "    <tr>\n",
       "      <th>767</th>\n",
       "      <td>1</td>\n",
       "      <td>93</td>\n",
       "      <td>70</td>\n",
       "      <td>31</td>\n",
       "      <td>0</td>\n",
       "      <td>30.4</td>\n",
       "      <td>0.315</td>\n",
       "      <td>23</td>\n",
       "    </tr>\n",
       "  </tbody>\n",
       "</table>\n",
       "<p>768 rows × 8 columns</p>\n",
       "</div>"
      ],
      "text/plain": [
       "     Pregnancies  Glucose  BloodPressure  SkinThickness  Insulin   BMI  \\\n",
       "0              6      148             72             35        0  33.6   \n",
       "1              1       85             66             29        0  26.6   \n",
       "2              8      183             64              0        0  23.3   \n",
       "3              1       89             66             23       94  28.1   \n",
       "4              0      137             40             35      168  43.1   \n",
       "..           ...      ...            ...            ...      ...   ...   \n",
       "763           10      101             76             48      180  32.9   \n",
       "764            2      122             70             27        0  36.8   \n",
       "765            5      121             72             23      112  26.2   \n",
       "766            1      126             60              0        0  30.1   \n",
       "767            1       93             70             31        0  30.4   \n",
       "\n",
       "     DiabetesPedigreeFunction  Age  \n",
       "0                       0.627   50  \n",
       "1                       0.351   31  \n",
       "2                       0.672   32  \n",
       "3                       0.167   21  \n",
       "4                       2.288   33  \n",
       "..                        ...  ...  \n",
       "763                     0.171   63  \n",
       "764                     0.340   27  \n",
       "765                     0.245   30  \n",
       "766                     0.349   47  \n",
       "767                     0.315   23  \n",
       "\n",
       "[768 rows x 8 columns]"
      ]
     },
     "execution_count": 13,
     "metadata": {},
     "output_type": "execute_result"
    }
   ],
   "source": [
    "columns=[\"Pregnancies\",\"Glucose\",\"BloodPressure\",\"SkinThickness\",\"Insulin\",\"BMI\",\"DiabetesPedigreeFunction\",\"Age\"]\n",
    "df=df1[columns]\n",
    "df"
   ]
  },
  {
   "cell_type": "code",
   "execution_count": 14,
   "id": "c8669aad",
   "metadata": {},
   "outputs": [],
   "source": [
    "from sklearn.model_selection import train_test_split"
   ]
  },
  {
   "cell_type": "code",
   "execution_count": 15,
   "id": "e04a71ba",
   "metadata": {},
   "outputs": [
    {
     "name": "stdout",
     "output_type": "stream",
     "text": [
      "x shape is (768, 8)\n",
      "y shape is (768,)\n"
     ]
    }
   ],
   "source": [
    "x = df\n",
    "y = df1[\"Outcome\"]\n",
    "print(\"x shape is\",x.shape)\n",
    "print(\"y shape is\",y.shape)"
   ]
  },
  {
   "cell_type": "code",
   "execution_count": 16,
   "id": "d395ca25",
   "metadata": {},
   "outputs": [],
   "source": [
    "x_train,x_test,y_train,y_test=train_test_split(x,y,train_size=0.9,test_size=0.1,stratify=y)"
   ]
  },
  {
   "cell_type": "code",
   "execution_count": 17,
   "id": "dc69b3a6",
   "metadata": {},
   "outputs": [
    {
     "name": "stdout",
     "output_type": "stream",
     "text": [
      "x_train shape is (691, 8)\n",
      "x_test shape is (77, 8)\n",
      "y_train shape is (691,)\n",
      "y_train shape is (77,)\n"
     ]
    }
   ],
   "source": [
    "print(\"x_train shape is\",x_train.shape)\n",
    "print(\"x_test shape is\",x_test.shape)\n",
    "print(\"y_train shape is\",y_train.shape)\n",
    "print(\"y_train shape is\",y_test.shape)"
   ]
  },
  {
   "cell_type": "code",
   "execution_count": 18,
   "id": "b764e52f",
   "metadata": {},
   "outputs": [
    {
     "name": "stdout",
     "output_type": "stream",
     "text": [
      "0.3489583333333333 0.34876989869753977 0.35064935064935066\n"
     ]
    }
   ],
   "source": [
    "print(y.mean(),y_train.mean(), y_test.mean())"
   ]
  },
  {
   "cell_type": "code",
   "execution_count": 19,
   "id": "993854d5",
   "metadata": {},
   "outputs": [
    {
     "data": {
      "text/plain": [
       "Pregnancies                   int64\n",
       "Glucose                       int64\n",
       "BloodPressure                 int64\n",
       "SkinThickness                 int64\n",
       "Insulin                       int64\n",
       "BMI                         float64\n",
       "DiabetesPedigreeFunction    float64\n",
       "Age                           int64\n",
       "dtype: object"
      ]
     },
     "metadata": {},
     "output_type": "display_data"
    }
   ],
   "source": [
    "display(x_train.dtypes)"
   ]
  },
  {
   "cell_type": "code",
   "execution_count": 20,
   "id": "d829bedb",
   "metadata": {},
   "outputs": [
    {
     "data": {
      "text/plain": [
       "dtype('int64')"
      ]
     },
     "metadata": {},
     "output_type": "display_data"
    }
   ],
   "source": [
    "display(y_train.dtypes)"
   ]
  },
  {
   "cell_type": "code",
   "execution_count": 21,
   "id": "88dafab7",
   "metadata": {},
   "outputs": [],
   "source": [
    "class SigmoidNeuron:\n",
    "    def __init__(self, learning_rate=0.01, iterations = 1000):\n",
    "        self.b = None   #bias\n",
    "        self.W = None\n",
    "        self.lr = learning_rate\n",
    "        self.iters = iterations\n",
    "        self.errorPerItr = None\n",
    "        \n",
    "    def sigmoid_func(self,power):\n",
    "        #sigmoid function always returns output in range 0 to 1\n",
    "        return 1.0/(1.0 + np.exp(-power))\n",
    "    \n",
    "    def predict(self, X):\n",
    "        y_pred = []\n",
    "        for index in range(len(X)):\n",
    "            x=X.iloc[index]\n",
    "            linear_output = np.dot(x, self.W.T) + self.b  #we got the exponent\n",
    "            y_predicted = self.sigmoid_func(linear_output)\n",
    "            y_pred.append(y_predicted)\n",
    "        return y_pred\n",
    "        \n",
    "    \n",
    "    #sigmoid neuron needs a principled learning algorithm for learning the values of W and B\n",
    "    def gradientDescent(self, X, Y):\n",
    "        self.b = 0\n",
    "        n_features = X.shape[1]\n",
    "        self.W = np.zeros(n_features)\n",
    "        \n",
    "        #ensure that y is 0 or 1\n",
    "        y_ = np.array([1 if i>0 else 0 for i in Y])\n",
    "        \n",
    "        self.errorPerItr = []\n",
    "        \n",
    "        for itr in range(self.iters):\n",
    "            # In every epoch we need to care about Weights of next epoch\n",
    "            # W' = W - lr * grad(W)\n",
    "            # b' = b - lr* grad(b)\n",
    "            # So In each epoch we calculate the gradient\n",
    "            grad_w = 0\n",
    "            grad_b = 0\n",
    "            loss = 0\n",
    "            for index in range(len(X)):\n",
    "                x=X.iloc[index]\n",
    "                linear_output = np.dot(x, self.W) + self.b \n",
    "                y_predicted = self.sigmoid_func(linear_output)\n",
    "                fx = y_predicted\n",
    "                \n",
    "                y= Y.iloc[index]\n",
    "                grad_w += (fx - y)*fx*(1-fx)*np.dot(np.ones(n_features), x)\n",
    "                grad_b += (fx - y)*fx*(1-fx)\n",
    "                \n",
    "                #for each epoch we will calculate the loss\n",
    "                loss += (fx - y)**2\n",
    "            self.errorPerItr.append(0.5 * loss)\n",
    "            print(\"L: \", 0.5 * loss)\n",
    "            \n",
    "            #calculate new W and b\n",
    "            for i in range(n_features): # since W is a vector\n",
    "                self.W[i] -= self.lr*grad_w\n",
    "            self.b -= self.lr*grad_b    # b is a scalar\n",
    "            print(\"w: \", self.W)\n",
    "            print(\"B: \", self.b)"
   ]
  },
  {
   "cell_type": "code",
   "execution_count": 22,
   "id": "b44c7f54",
   "metadata": {},
   "outputs": [
    {
     "name": "stdout",
     "output_type": "stream",
     "text": [
      "L:  86.375\n",
      "w:  [-63.422585 -63.422585 -63.422585 -63.422585 -63.422585 -63.422585\n",
      " -63.422585 -63.422585]\n",
      "B:  -0.26125\n",
      "L:  120.5\n",
      "w:  [-63.422585 -63.422585 -63.422585 -63.422585 -63.422585 -63.422585\n",
      " -63.422585 -63.422585]\n",
      "B:  -0.26125\n",
      "L:  120.5\n",
      "w:  [-63.422585 -63.422585 -63.422585 -63.422585 -63.422585 -63.422585\n",
      " -63.422585 -63.422585]\n",
      "B:  -0.26125"
     ]
    },
    {
     "name": "stderr",
     "output_type": "stream",
     "text": [
      "C:\\Users\\Priyanka Gupta\\AppData\\Local\\Temp\\ipykernel_20184\\592999563.py:11: RuntimeWarning: overflow encountered in exp\n",
      "  return 1.0/(1.0 + np.exp(-power))\n"
     ]
    },
    {
     "name": "stdout",
     "output_type": "stream",
     "text": [
      "\n",
      "L:  120.5\n",
      "w:  [-63.422585 -63.422585 -63.422585 -63.422585 -63.422585 -63.422585\n",
      " -63.422585 -63.422585]\n",
      "B:  -0.26125\n",
      "L:  120.5\n",
      "w:  [-63.422585 -63.422585 -63.422585 -63.422585 -63.422585 -63.422585\n",
      " -63.422585 -63.422585]\n",
      "B:  -0.26125\n",
      "L:  120.5\n",
      "w:  [-63.422585 -63.422585 -63.422585 -63.422585 -63.422585 -63.422585\n",
      " -63.422585 -63.422585]\n",
      "B:  -0.26125\n",
      "L:  120.5\n",
      "w:  [-63.422585 -63.422585 -63.422585 -63.422585 -63.422585 -63.422585\n",
      " -63.422585 -63.422585]\n",
      "B:  -0.26125\n",
      "L:  120.5\n",
      "w:  [-63.422585 -63.422585 -63.422585 -63.422585 -63.422585 -63.422585\n",
      " -63.422585 -63.422585]\n",
      "B:  -0.26125\n",
      "L:  120.5\n",
      "w:  [-63.422585 -63.422585 -63.422585 -63.422585 -63.422585 -63.422585\n",
      " -63.422585 -63.422585]\n",
      "B:  -0.26125\n",
      "L:  120.5\n",
      "w:  [-63.422585 -63.422585 -63.422585 -63.422585 -63.422585 -63.422585\n",
      " -63.422585 -63.422585]\n",
      "B:  -0.26125\n"
     ]
    }
   ],
   "source": [
    "sigModel = SigmoidNeuron(learning_rate = 0.01, iterations=10)\n",
    "sigModel.gradientDescent(x_train,y_train)"
   ]
  },
  {
   "cell_type": "code",
   "execution_count": 23,
   "id": "89ca7596",
   "metadata": {},
   "outputs": [],
   "source": [
    "def accuracy(y_testing, y_pred):\n",
    "    accuracy = np.sum(y_testing == y_pred) / len(y_testing)\n",
    "    return accuracy"
   ]
  },
  {
   "cell_type": "code",
   "execution_count": 24,
   "id": "17dd83d3",
   "metadata": {},
   "outputs": [
    {
     "name": "stdout",
     "output_type": "stream",
     "text": [
      "Sigmoid Classification accuracy is:  0.6493506493506493\n"
     ]
    },
    {
     "name": "stderr",
     "output_type": "stream",
     "text": [
      "C:\\Users\\Priyanka Gupta\\AppData\\Local\\Temp\\ipykernel_20184\\592999563.py:11: RuntimeWarning: overflow encountered in exp\n",
      "  return 1.0/(1.0 + np.exp(-power))\n"
     ]
    }
   ],
   "source": [
    "prediction = sigModel.predict(x_test)\n",
    "print(\"Sigmoid Classification accuracy is: \",accuracy(y_test, prediction))"
   ]
  },
  {
   "cell_type": "code",
   "execution_count": null,
   "id": "1c58044c",
   "metadata": {},
   "outputs": [],
   "source": []
  },
  {
   "cell_type": "code",
   "execution_count": null,
   "id": "151a0445",
   "metadata": {},
   "outputs": [],
   "source": []
  }
 ],
 "metadata": {
  "kernelspec": {
   "display_name": "Python 3 (ipykernel)",
   "language": "python",
   "name": "python3"
  },
  "language_info": {
   "codemirror_mode": {
    "name": "ipython",
    "version": 3
   },
   "file_extension": ".py",
   "mimetype": "text/x-python",
   "name": "python",
   "nbconvert_exporter": "python",
   "pygments_lexer": "ipython3",
   "version": "3.10.2"
  }
 },
 "nbformat": 4,
 "nbformat_minor": 5
}
