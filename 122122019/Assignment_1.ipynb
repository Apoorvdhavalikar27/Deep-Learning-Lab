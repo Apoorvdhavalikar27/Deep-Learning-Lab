{
 "cells": [
  {
   "cell_type": "code",
   "execution_count": 79,
   "id": "62d2da91",
   "metadata": {},
   "outputs": [],
   "source": [
    "import numpy as np\n",
    "import pandas as pd \n",
    "from sklearn.model_selection import train_test_split\n",
    "import matplotlib.pyplot as plt\n",
    "import operator\n",
    "from collections import Counter"
   ]
  },
  {
   "cell_type": "code",
   "execution_count": 2,
   "id": "b8739997",
   "metadata": {},
   "outputs": [],
   "source": [
    "df = pd.read_csv('pima.csv')"
   ]
  },
  {
   "cell_type": "code",
   "execution_count": 3,
   "id": "5daedc52",
   "metadata": {},
   "outputs": [
    {
     "name": "stdout",
     "output_type": "stream",
     "text": [
      "     Pregnancies  Glucose  BloodPressure  SkinThickness  Insulin   BMI  \\\n",
      "0              6      148             72             35        0  33.6   \n",
      "1              1       85             66             29        0  26.6   \n",
      "2              8      183             64              0        0  23.3   \n",
      "3              1       89             66             23       94  28.1   \n",
      "4              0      137             40             35      168  43.1   \n",
      "..           ...      ...            ...            ...      ...   ...   \n",
      "851            5      112             66              0        0  37.8   \n",
      "852            0      177             60             29      478  34.6   \n",
      "853            2      158             90              0        0  31.6   \n",
      "854            3      162             52             38        0  37.2   \n",
      "855            4      142             86              0        0  44.0   \n",
      "\n",
      "     DiabetesPedigreeFunction  Age  Outcome  \n",
      "0                       0.627   50        1  \n",
      "1                       0.351   31        0  \n",
      "2                       0.672   32        1  \n",
      "3                       0.167   21        0  \n",
      "4                       2.288   33        1  \n",
      "..                        ...  ...      ...  \n",
      "851                     0.261   41        1  \n",
      "852                     1.072   21        1  \n",
      "853                     0.805   66        1  \n",
      "854                     0.652   24        1  \n",
      "855                     0.645   22        1  \n",
      "\n",
      "[856 rows x 9 columns]\n"
     ]
    }
   ],
   "source": [
    "print(df)"
   ]
  },
  {
   "cell_type": "code",
   "execution_count": 4,
   "id": "0c9f7926",
   "metadata": {},
   "outputs": [
    {
     "name": "stdout",
     "output_type": "stream",
     "text": [
      "0    500\n",
      "1    356\n",
      "Name: Outcome, dtype: int64\n"
     ]
    }
   ],
   "source": [
    "print(df['Outcome'].value_counts())"
   ]
  },
  {
   "cell_type": "code",
   "execution_count": 5,
   "id": "a0a48628",
   "metadata": {},
   "outputs": [],
   "source": [
    "x = df.drop('Outcome', axis=1)\n",
    "y = df['Outcome']"
   ]
  },
  {
   "cell_type": "code",
   "execution_count": 6,
   "id": "45476a4c",
   "metadata": {},
   "outputs": [],
   "source": [
    "X_train, X_test, Y_train, Y_test = train_test_split(x, y, test_size=0.1)"
   ]
  },
  {
   "cell_type": "code",
   "execution_count": 7,
   "id": "b1d69989",
   "metadata": {},
   "outputs": [
    {
     "name": "stdout",
     "output_type": "stream",
     "text": [
      "(856, 8) (770, 8) (86, 8)\n"
     ]
    }
   ],
   "source": [
    "print(x.shape, X_train.shape, X_test.shape)"
   ]
  },
  {
   "cell_type": "code",
   "execution_count": 8,
   "id": "151f18da",
   "metadata": {},
   "outputs": [
    {
     "name": "stdout",
     "output_type": "stream",
     "text": [
      "(856,) (770,) (86,)\n"
     ]
    }
   ],
   "source": [
    "print(y.shape, Y_train.shape, Y_test.shape)"
   ]
  },
  {
   "cell_type": "code",
   "execution_count": 9,
   "id": "98ce0449",
   "metadata": {},
   "outputs": [
    {
     "name": "stdout",
     "output_type": "stream",
     "text": [
      "0.4158878504672897 0.4064935064935065 0.5\n"
     ]
    }
   ],
   "source": [
    "print(y.mean(), Y_train.mean(), Y_test.mean())"
   ]
  },
  {
   "cell_type": "code",
   "execution_count": 10,
   "id": "aeed7505",
   "metadata": {},
   "outputs": [],
   "source": [
    "X_train, X_test, Y_train, Y_test = train_test_split(x, y, test_size=0.1, stratify = y)"
   ]
  },
  {
   "cell_type": "code",
   "execution_count": 11,
   "id": "d564db29",
   "metadata": {},
   "outputs": [
    {
     "name": "stdout",
     "output_type": "stream",
     "text": [
      "0.4158878504672897 0.4155844155844156 0.4186046511627907\n"
     ]
    }
   ],
   "source": [
    "print(y.mean(), Y_train.mean(), Y_test.mean())"
   ]
  },
  {
   "cell_type": "code",
   "execution_count": 12,
   "id": "26b0ded8",
   "metadata": {},
   "outputs": [
    {
     "name": "stdout",
     "output_type": "stream",
     "text": [
      "Pregnancies                   3.989486\n",
      "Glucose                     122.809579\n",
      "BloodPressure                69.442757\n",
      "SkinThickness                20.700935\n",
      "Insulin                      82.671729\n",
      "BMI                          32.379439\n",
      "DiabetesPedigreeFunction      0.481374\n",
      "Age                          33.691589\n",
      "dtype: float64 Pregnancies                   4.036364\n",
      "Glucose                     122.945455\n",
      "BloodPressure                69.051948\n",
      "SkinThickness                20.670130\n",
      "Insulin                      82.257143\n",
      "BMI                          32.252597\n",
      "DiabetesPedigreeFunction      0.482001\n",
      "Age                          33.729870\n",
      "dtype: float64 Pregnancies                   3.569767\n",
      "Glucose                     121.593023\n",
      "BloodPressure                72.941860\n",
      "SkinThickness                20.976744\n",
      "Insulin                      86.383721\n",
      "BMI                          33.515116\n",
      "DiabetesPedigreeFunction      0.475756\n",
      "Age                          33.348837\n",
      "dtype: float64\n"
     ]
    }
   ],
   "source": [
    "print(x.mean(), X_train.mean(), X_test.mean())"
   ]
  },
  {
   "cell_type": "code",
   "execution_count": 13,
   "id": "96a04cca",
   "metadata": {},
   "outputs": [],
   "source": [
    "X_train, X_test, Y_train, Y_test = train_test_split(x, y, test_size=0.1, stratify = y, random_state=1)"
   ]
  },
  {
   "cell_type": "code",
   "execution_count": 14,
   "id": "e0258bfa",
   "metadata": {},
   "outputs": [
    {
     "name": "stdout",
     "output_type": "stream",
     "text": [
      "Pregnancies                   3.972727\n",
      "Glucose                     122.676623\n",
      "BloodPressure                69.503896\n",
      "SkinThickness                20.876623\n",
      "Insulin                      81.425974\n",
      "BMI                          32.470519\n",
      "DiabetesPedigreeFunction      0.485445\n",
      "Age                          33.622078\n",
      "dtype: float64 Pregnancies                   4.139535\n",
      "Glucose                     124.000000\n",
      "BloodPressure                68.895349\n",
      "SkinThickness                19.127907\n",
      "Insulin                      93.825581\n",
      "BMI                          31.563953\n",
      "DiabetesPedigreeFunction      0.444919\n",
      "Age                          34.313953\n",
      "dtype: float64 Pregnancies                   3.989486\n",
      "Glucose                     122.809579\n",
      "BloodPressure                69.442757\n",
      "SkinThickness                20.700935\n",
      "Insulin                      82.671729\n",
      "BMI                          32.379439\n",
      "DiabetesPedigreeFunction      0.481374\n",
      "Age                          33.691589\n",
      "dtype: float64\n"
     ]
    }
   ],
   "source": [
    "print(X_train.mean(), X_test.mean(),x.mean())"
   ]
  },
  {
   "cell_type": "code",
   "execution_count": 71,
   "id": "bdc8e3cf",
   "metadata": {},
   "outputs": [
    {
     "data": {
      "image/png": "[encoded data removed]",
      "text/plain": [
       "<Figure size 432x288 with 1 Axes>"
      ]
     },
     "metadata": {
      "needs_background": "light"
     },
     "output_type": "display_data"
    }
   ],
   "source": [
    "plt.plot(X_train.T)\n",
    "plt.xticks(rotation='vertical')\n",
    "plt.show()"
   ]
  },
  {
   "cell_type": "code",
   "execution_count": 30,
   "id": "5a0f68d8",
   "metadata": {},
   "outputs": [],
   "source": [
    "x_binarised_train = X_train.apply(pd.cut, bins=2, labels=[1,0])"
   ]
  },
  {
   "cell_type": "code",
   "execution_count": 32,
   "id": "b2df7ec2",
   "metadata": {},
   "outputs": [],
   "source": [
    "x_binarised_test = X_test.apply(pd.cut, bins=2, labels=[1,0])"
   ]
  },
  {
   "cell_type": "code",
   "execution_count": 47,
   "id": "3a4fc0f5",
   "metadata": {},
   "outputs": [],
   "source": [
    "x_binarised_test_arr = x_binarised_test.values\n",
    "x_binarised_train_arr = x_binarised_train.values"
   ]
  },
  {
   "cell_type": "code",
   "execution_count": 48,
   "id": "7a6131ef",
   "metadata": {},
   "outputs": [
    {
     "data": {
      "text/plain": [
       "(770, 8)"
      ]
     },
     "execution_count": 48,
     "metadata": {},
     "output_type": "execute_result"
    }
   ],
   "source": [
    "x_binarised_train.shape"
   ]
  },
  {
   "cell_type": "code",
   "execution_count": 49,
   "id": "bd944df1",
   "metadata": {},
   "outputs": [],
   "source": [
    "from random import randint"
   ]
  },
  {
   "cell_type": "code",
   "execution_count": 201,
   "id": "83a6e7c2",
   "metadata": {},
   "outputs": [
    {
     "name": "stdout",
     "output_type": "stream",
     "text": [
      "For row 33\n",
      "MP Neuron inference is above bias\n",
      "Ground truth belong tp class 0\n"
     ]
    }
   ],
   "source": [
    "b = 3\n",
    "\n",
    "i = randint(0, x_binarised_train_arr.shape[0])\n",
    "\n",
    "print(\"For row\", i)\n",
    "\n",
    "if (np.sum(x_binarised_train_arr[100, :]) >= b):\n",
    "    print(\"MP Neuron inference is above bias\")\n",
    "else:\n",
    "    print(\"MP Neuron inference below bias\")\n",
    "\n",
    "if (Y_train[i] == 1):\n",
    "    print(\"Ground Truth belong to class 1\")\n",
    "else:\n",
    "    print(\"Ground truth belong tp class 0\")"
   ]
  },
  {
   "cell_type": "code",
   "execution_count": 60,
   "id": "2cd17d8f",
   "metadata": {},
   "outputs": [
    {
     "name": "stdout",
     "output_type": "stream",
     "text": [
      "450 0.5844155844155844\n"
     ]
    }
   ],
   "source": [
    "b = 9\n",
    "\n",
    "Y_pred_train = []\n",
    "accurate_rows = 0\n",
    "\n",
    "for x, y in zip(x_binarised_train_arr, Y_train):\n",
    "    y_pred = (np.sum(x) >= b)\n",
    "    Y_pred_train.append(y_pred)\n",
    "    accurate_rows += (y == y_pred)\n",
    "\n",
    "print(accurate_rows, accurate_rows/x_binarised_train.shape[0])"
   ]
  },
  {
   "cell_type": "code",
   "execution_count": 61,
   "id": "69b1a4ca",
   "metadata": {},
   "outputs": [
    {
     "name": "stdout",
     "output_type": "stream",
     "text": [
      "0 320 0.4155844155844156\n",
      "1 320 0.4155844155844156\n",
      "2 320 0.4155844155844156\n",
      "3 320 0.4155844155844156\n",
      "4 315 0.4090909090909091\n",
      "5 281 0.36493506493506495\n",
      "6 256 0.33246753246753247\n",
      "7 340 0.44155844155844154\n",
      "8 427 0.5545454545454546\n",
      "9 450 0.5844155844155844\n",
      "10 450 0.5844155844155844\n",
      "11 450 0.5844155844155844\n",
      "12 450 0.5844155844155844\n",
      "13 450 0.5844155844155844\n",
      "14 450 0.5844155844155844\n",
      "15 450 0.5844155844155844\n",
      "16 450 0.5844155844155844\n",
      "17 450 0.5844155844155844\n"
     ]
    }
   ],
   "source": [
    "for b in range(x_binarised_train_arr.shape[1]+10):\n",
    "    Y_pred_train = []\n",
    "    accurate_rows = 0\n",
    "\n",
    "    for x, y in zip(x_binarised_train_arr, Y_train):\n",
    "        y_pred = (np.sum(x) >= b)\n",
    "        Y_pred_train.append(y_pred)\n",
    "        accurate_rows += (y == y_pred)\n",
    "\n",
    "    print(b, accurate_rows, accurate_rows/x_binarised_train_arr.shape[0])"
   ]
  },
  {
   "cell_type": "code",
   "execution_count": 62,
   "id": "4dad6ef0",
   "metadata": {},
   "outputs": [],
   "source": [
    "from sklearn.metrics import accuracy_score"
   ]
  },
  {
   "cell_type": "code",
   "execution_count": 63,
   "id": "d1c979f0",
   "metadata": {},
   "outputs": [
    {
     "name": "stdout",
     "output_type": "stream",
     "text": [
      "10 0.5813953488372093\n"
     ]
    }
   ],
   "source": [
    "b = 10\n",
    "\n",
    "Y_pred_test = []\n",
    "\n",
    "for x in x_binarised_test_arr:\n",
    "    y_pred = (np.sum(x) >= b)\n",
    "    Y_pred_test.append(y_pred)\n",
    "    \n",
    "accuracy = accuracy_score(Y_pred_test, Y_test)\n",
    "print(b,accuracy)"
   ]
  },
  {
   "cell_type": "code",
   "execution_count": 64,
   "id": "de68bf91",
   "metadata": {},
   "outputs": [],
   "source": [
    "class MPNeuron:\n",
    "    def __init__(self, function='sum'):\n",
    "        self.threshold = None\n",
    "        if function == 'sum':\n",
    "            self.function = self.sum_function\n",
    "\n",
    "    def sum_function(self, x):\n",
    "        return sum(x) >= self.threshold\n",
    "\n",
    "    def and_function(self, x):\n",
    "        return all(x)\n",
    "\n",
    "    def or_function(self, x):\n",
    "        return any(x)\n",
    "\n",
    "    def fit(self, X_DataFrame, y_DataFrame):\n",
    "        threshold_accuracy_dict = {}\n",
    "        for threshold in range(len(X_DataFrame.columns) + 1):\n",
    "            threshold_accuracy_dict[threshold] = None\n",
    "        for threshold in threshold_accuracy_dict.keys():\n",
    "            self.threshold = threshold\n",
    "            predictions = self.predict(X_DataFrame)\n",
    "            threshold_accuracy_dict[threshold] = accuracy_score(y_DataFrame, predictions)\n",
    "        self.threshold = max(threshold_accuracy_dict.items(), key=operator.itemgetter(1))[0]\n",
    "        print(self.threshold, 'threshold', threshold_accuracy_dict)\n",
    "\n",
    "    def predict(self, X_DataFrame):\n",
    "        results = np.array([])\n",
    "        for i in range(len(X_DataFrame)):\n",
    "            result = self.function(X_DataFrame.iloc[i])\n",
    "            results = np.append(results, result)\n",
    "        return results"
   ]
  },
  {
   "cell_type": "code",
   "execution_count": 65,
   "id": "7957f42c",
   "metadata": {},
   "outputs": [
    {
     "name": "stdout",
     "output_type": "stream",
     "text": [
      "8 threshold {0: 0.4155844155844156, 1: 0.4155844155844156, 2: 0.4155844155844156, 3: 0.4155844155844156, 4: 0.4090909090909091, 5: 0.36493506493506495, 6: 0.33246753246753247, 7: 0.44155844155844154, 8: 0.5545454545454546}\n"
     ]
    }
   ],
   "source": [
    "mp_neuron = MPNeuron()\n",
    "mp_neuron.fit(x_binarised_train, Y_train)"
   ]
  },
  {
   "cell_type": "code",
   "execution_count": 66,
   "id": "7fafd893",
   "metadata": {},
   "outputs": [],
   "source": [
    "Y_test_pred = mp_neuron.predict(x_binarised_test)\n",
    "accuracy_test = accuracy_score(Y_test_pred, Y_test)"
   ]
  },
  {
   "cell_type": "code",
   "execution_count": 67,
   "id": "f0d63540",
   "metadata": {},
   "outputs": [
    {
     "name": "stdout",
     "output_type": "stream",
     "text": [
      "0.5581395348837209\n"
     ]
    }
   ],
   "source": [
    "print(accuracy_test)"
   ]
  },
  {
   "cell_type": "code",
   "execution_count": 90,
   "id": "21d76855",
   "metadata": {},
   "outputs": [],
   "source": [
    "import sklearn.datasets\n",
    "import numpy as np\n",
    "import pandas as pd\n",
    "import matplotlib.pyplot as plt\n",
    "%matplotlib inline\n",
    "from sklearn.model_selection import train_test_split"
   ]
  },
  {
   "cell_type": "code",
   "execution_count": 91,
   "id": "dd284ef3",
   "metadata": {},
   "outputs": [],
   "source": [
    "df2 = pd.read_csv('pima.csv')"
   ]
  },
  {
   "cell_type": "code",
   "execution_count": 92,
   "id": "26296aeb",
   "metadata": {},
   "outputs": [
    {
     "name": "stdout",
     "output_type": "stream",
     "text": [
      "0    500\n",
      "1    356\n",
      "Name: Outcome, dtype: int64\n"
     ]
    }
   ],
   "source": [
    "print(df2['Outcome'].value_counts())"
   ]
  },
  {
   "cell_type": "code",
   "execution_count": 94,
   "id": "0336cc9e",
   "metadata": {},
   "outputs": [],
   "source": [
    "X = df2.drop('Outcome', axis=1)\n",
    "Y = df2['Outcome']"
   ]
  },
  {
   "cell_type": "code",
   "execution_count": 195,
   "id": "b2ac3816",
   "metadata": {},
   "outputs": [],
   "source": [
    "X_train, X_test, Y_train, Y_test = train_test_split(X, Y, test_size=0.1, stratify = Y, random_state=1)"
   ]
  },
  {
   "cell_type": "code",
   "execution_count": 196,
   "id": "d475f93b",
   "metadata": {},
   "outputs": [
    {
     "data": {
      "image/png": "[encoded data removed]",
      "text/plain": [
       "<Figure size 432x288 with 1 Axes>"
      ]
     },
     "metadata": {
      "needs_background": "light"
     },
     "output_type": "display_data"
    }
   ],
   "source": [
    "plt.plot(X_test.T)\n",
    "plt.xticks(rotation='vertical')\n",
    "plt.show()"
   ]
  },
  {
   "cell_type": "code",
   "execution_count": 197,
   "id": "d154e1be",
   "metadata": {},
   "outputs": [],
   "source": [
    "X_binarised_train = X_train.apply(pd.cut, bins=2, labels=[1,0])"
   ]
  },
  {
   "cell_type": "code",
   "execution_count": 198,
   "id": "b3b6de73",
   "metadata": {},
   "outputs": [],
   "source": [
    "X_binarised_test = X_test.apply(pd.cut, bins=2, labels=[1,0])\n",
    "X_binarised_test = X_binarised_test.values\n",
    "X_binarised_train = X_binarised_train.values"
   ]
  },
  {
   "cell_type": "code",
   "execution_count": 199,
   "id": "283d62ab",
   "metadata": {},
   "outputs": [],
   "source": [
    "from sklearn.metrics import accuracy_score"
   ]
  },
  {
   "cell_type": "code",
   "execution_count": 200,
   "id": "9e6f94a9",
   "metadata": {},
   "outputs": [],
   "source": [
    "X_train = X_train.values\n",
    "X_test = X_test.values"
   ]
  },
  {
   "cell_type": "code",
   "execution_count": 180,
   "id": "5a6871de",
   "metadata": {},
   "outputs": [],
   "source": [
    "class perceptron:\n",
    "    def __init__(self, max_iters=100):\n",
    "        self.max_iters = max_iters\n",
    "    \n",
    "    def fit(self, X, y):\n",
    "        X, y = np.asarray(X), np.asarray(y)\n",
    "        iters = 0\n",
    "        X = np.concatenate((X, np.asarray([[1] * X.shape[0]]).T), axis=1)\n",
    "\n",
    "        ω = np.random.random(X.shape[1])        \n",
    "        \n",
    "        for _ in range(self.max_iters):\n",
    "            y_pred_all = []\n",
    "            for idx in range(X.shape[0]):\n",
    "                x_sample, y_sample = X[idx], y[idx]\n",
    "                y_pred = int(np.sum(ω * x_sample) >= 0.5)\n",
    "                if y_pred == y_sample:\n",
    "                    pass\n",
    "                elif y_pred == 0 and y_sample == 1:\n",
    "                    ω = ω + x_sample\n",
    "                elif y_pred == 1 and y_sample == 0:\n",
    "                    ω = ω - x_sample\n",
    "                \n",
    "                y_pred_all.append(y_pred)\n",
    "            \n",
    "            iters += 1\n",
    "            if np.equal(np.array(y_pred_all), y).all():\n",
    "                break\n",
    "                \n",
    "        self.iters, self.ω = iters, ω\n",
    "        \n",
    "    def predict(self, X):\n",
    "        X = np.asarray(X)\n",
    "        X = np.concatenate((X, np.asarray([[1] * X.shape[0]]).T), axis=1)\n",
    "        \n",
    "        return (X @ self.ω > 0.5).astype(int)"
   ]
  },
  {
   "cell_type": "code",
   "execution_count": 181,
   "id": "96510ddc",
   "metadata": {},
   "outputs": [],
   "source": [
    "pn = perceptron()"
   ]
  },
  {
   "cell_type": "code",
   "execution_count": 182,
   "id": "a830e0eb",
   "metadata": {},
   "outputs": [],
   "source": [
    "pn.fit(X_train, Y_train)"
   ]
  },
  {
   "cell_type": "code",
   "execution_count": 189,
   "id": "84ff5668",
   "metadata": {},
   "outputs": [
    {
     "name": "stdout",
     "output_type": "stream",
     "text": [
      "0.7674418604651163\n"
     ]
    }
   ],
   "source": [
    "Y_pred_test = pn.predict(X_test)\n",
    "print(predict(Y_pred_test, Y_test))"
   ]
  }
 ],
 "metadata": {
  "kernelspec": {
   "display_name": "Python 3 (ipykernel)",
   "language": "python",
   "name": "python3"
  },
  "language_info": {
   "codemirror_mode": {
    "name": "ipython",
    "version": 3
   },
   "file_extension": ".py",
   "mimetype": "text/x-python",
   "name": "python",
   "nbconvert_exporter": "python",
   "pygments_lexer": "ipython3",
   "version": "3.9.7"
  }
 },
 "nbformat": 4,
 "nbformat_minor": 5
}
